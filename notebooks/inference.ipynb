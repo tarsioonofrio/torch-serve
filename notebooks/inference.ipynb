{
 "cells": [
  {
   "cell_type": "code",
   "execution_count": 1,
   "metadata": {
    "collapsed": true
   },
   "outputs": [],
   "source": [
    "import requests"
   ]
  },
  {
   "cell_type": "code",
   "execution_count": 11,
   "outputs": [],
   "source": [
    "url = 'http://localhost:8080/predictions/densenet161'\n",
    "data = open('../serve/examples/image_classifier/kitten.jpg', 'rb')\n",
    "response = requests.post(url, data=data)"
   ],
   "metadata": {
    "collapsed": false,
    "pycharm": {
     "name": "#%%\n"
    }
   }
  },
  {
   "cell_type": "code",
   "execution_count": 12,
   "outputs": [
    {
     "data": {
      "text/plain": "{'tiger_cat': 0.4693354368209839,\n 'tabby': 0.46338778734207153,\n 'Egyptian_cat': 0.06456160545349121,\n 'lynx': 0.0012828236212953925,\n 'plastic_bag': 0.0002332308649783954}"
     },
     "execution_count": 12,
     "metadata": {},
     "output_type": "execute_result"
    }
   ],
   "source": [
    "response.json()"
   ],
   "metadata": {
    "collapsed": false,
    "pycharm": {
     "name": "#%%\n"
    }
   }
  },
  {
   "cell_type": "code",
   "execution_count": 2,
   "outputs": [],
   "source": [
    "url = 'http://localhost:8080/predictions/fastrcnn'\n",
    "data = open('../serve/examples/object_detector/persons.jpg', 'rb')\n",
    "response = requests.post(url, data=data)"
   ],
   "metadata": {
    "collapsed": false,
    "pycharm": {
     "name": "#%%\n"
    }
   }
  },
  {
   "cell_type": "code",
   "execution_count": 3,
   "outputs": [
    {
     "data": {
      "text/plain": "[{'person': [167.4222869873047,\n   57.038272857666016,\n   301.305419921875,\n   436.686767578125],\n  'score': 0.9995299577713013},\n {'person': [89.61490631103516,\n   64.8980484008789,\n   191.40206909179688,\n   446.6605224609375],\n  'score': 0.9995074272155762},\n {'person': [362.34539794921875,\n   161.9876251220703,\n   515.53662109375,\n   385.2342834472656],\n  'score': 0.9977680444717407},\n {'handbag': [67.37422943115234,\n   277.6378479003906,\n   111.68101501464844,\n   400.2646179199219],\n  'score': 0.992548406124115},\n {'handbag': [228.7159423828125,\n   145.87759399414062,\n   303.5065612792969,\n   231.10511779785156],\n  'score': 0.9921919703483582},\n {'handbag': [379.4246826171875,\n   259.97760009765625,\n   419.0148620605469,\n   317.9510498046875],\n  'score': 0.9896279573440552},\n {'person': [517.9013671875,\n   149.55001831054688,\n   636.5952758789062,\n   365.5250549316406],\n  'score': 0.9828333854675293},\n {'bench': [268.99920654296875,\n   217.24330139160156,\n   423.9517517089844,\n   390.4784851074219],\n  'score': 0.9581766724586487},\n {'person': [539.6831665039062,\n   157.81715393066406,\n   616.1688842773438,\n   253.09609985351562],\n  'score': 0.8993930816650391},\n {'person': [477.13775634765625,\n   147.92550659179688,\n   611.0255737304688,\n   297.92767333984375],\n  'score': 0.8726598024368286},\n {'bench': [286.6688232421875,\n   216.35751342773438,\n   550.4537353515625,\n   383.1955871582031],\n  'score': 0.843819260597229},\n {'person': [627.44677734375, 177.19900512695312, 640.0, 247.35137939453125],\n  'score': 0.8364203572273254},\n {'bench': [88.39918518066406,\n   226.47962951660156,\n   560.9187622070312,\n   421.661865234375],\n  'score': 0.7469929456710815},\n {'handbag': [406.9601745605469,\n   261.8284912109375,\n   453.7619934082031,\n   357.5364990234375],\n  'score': 0.7322055697441101},\n {'chair': [451.3659973144531,\n   207.49049377441406,\n   504.656982421875,\n   287.66192626953125],\n  'score': 0.6674196124076843},\n {'chair': [454.3897399902344,\n   207.96115112304688,\n   487.7691955566406,\n   270.31329345703125],\n  'score': 0.5939613580703735}]"
     },
     "execution_count": 3,
     "metadata": {},
     "output_type": "execute_result"
    }
   ],
   "source": [
    "response.json()"
   ],
   "metadata": {
    "collapsed": false,
    "pycharm": {
     "name": "#%%\n"
    }
   }
  }
 ],
 "metadata": {
  "kernelspec": {
   "display_name": "Python 3",
   "language": "python",
   "name": "python3"
  },
  "language_info": {
   "codemirror_mode": {
    "name": "ipython",
    "version": 2
   },
   "file_extension": ".py",
   "mimetype": "text/x-python",
   "name": "python",
   "nbconvert_exporter": "python",
   "pygments_lexer": "ipython2",
   "version": "2.7.6"
  }
 },
 "nbformat": 4,
 "nbformat_minor": 0
}